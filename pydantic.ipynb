{
 "cells": [
  {
   "cell_type": "markdown",
   "id": "ea664c7b",
   "metadata": {},
   "source": [
    "#### Pydantic Basics: Creating and Using Models\n",
    "Pydantic models are the foundation of data validation in Python. They use Python type annotations to define the structure and validate data at runtime. Here's a detailed exploration of basic model creation with several examples.\n",
    "\n"
   ]
  },
  {
   "cell_type": "code",
   "execution_count": null,
   "id": "79d72e2e",
   "metadata": {},
   "outputs": [],
   "source": [
    "from dataclasses import dataclass\n",
    "\n",
    "@dataclass\n",
    "class Person():\n",
    "    name:str\n",
    "    age:int\n",
    "    city:str"
   ]
  },
  {
   "cell_type": "code",
   "execution_count": null,
   "id": "566a380a",
   "metadata": {},
   "outputs": [],
   "source": [
    "person_1 = Person(name=\"vivek\",age= 31, city=\"Bangalore\")\n",
    "print(person_1)"
   ]
  },
  {
   "cell_type": "code",
   "execution_count": null,
   "id": "50ae7b9d",
   "metadata": {},
   "outputs": [],
   "source": [
    "## Pydantic\n",
    "from pydantic import BaseModel"
   ]
  },
  {
   "cell_type": "code",
   "execution_count": null,
   "id": "cf318c04",
   "metadata": {},
   "outputs": [],
   "source": [
    "class Person_1(BaseModel):\n",
    "    name: str\n",
    "    age: int\n",
    "    city: str"
   ]
  },
  {
   "cell_type": "code",
   "execution_count": null,
   "id": "3a2c9215",
   "metadata": {},
   "outputs": [],
   "source": [
    "person_3 = Person_1(name=\"Vivek\", age= 31, city= \"Adoni\")\n",
    "print(person_2)"
   ]
  },
  {
   "cell_type": "code",
   "execution_count": null,
   "id": "5c251bfc",
   "metadata": {},
   "outputs": [],
   "source": [
    "person_3 = Person_1(name=\"Vivek\", age= 31, city= 35)\n",
    "print(person_2)"
   ]
  },
  {
   "cell_type": "markdown",
   "id": "d82623f7",
   "metadata": {},
   "source": [
    "#### 2. Model with Optional Fields\n",
    "Add optional fields using Python's Optional type:\n",
    "\n"
   ]
  },
  {
   "cell_type": "code",
   "execution_count": null,
   "id": "a3957ba2",
   "metadata": {},
   "outputs": [],
   "source": [
    "class bank_customer(BaseModel):\n",
    "    customer_id: int\n",
    "    name: str\n",
    "    typeofaccount:str\n",
    "    age:int\n",
    "\n",
    "    "
   ]
  },
  {
   "cell_type": "code",
   "execution_count": null,
   "id": "98ad39ff",
   "metadata": {},
   "outputs": [],
   "source": [
    "bank_customer_1 = bank_customer(customer_id=1, name=\"Vivek\",typeofaccount=\"saving\")\n",
    "print(bank_customer_1)"
   ]
  },
  {
   "cell_type": "code",
   "execution_count": null,
   "id": "a7326769",
   "metadata": {},
   "outputs": [],
   "source": [
    "try:\n",
    "    abc = bank_customer(customer_id=1, name=\"Vivek\",typeofaccount=\"saving\")\n",
    "\n",
    "except Exception as e:\n",
    "    print(e)"
   ]
  },
  {
   "cell_type": "code",
   "execution_count": 1,
   "id": "ad7a44a0",
   "metadata": {},
   "outputs": [],
   "source": [
    "from pydantic import BaseModel\n",
    "from typing import Optional\n",
    "class Employee(BaseModel):\n",
    "    id:int\n",
    "    name:str\n",
    "    department: str\n",
    "    salary: Optional[float]= None # optional with default value none\n",
    "    is_active: Optional[bool]=True #optional field with default value is tru"
   ]
  },
  {
   "cell_type": "code",
   "execution_count": 4,
   "id": "03c3cdbb",
   "metadata": {},
   "outputs": [
    {
     "name": "stdout",
     "output_type": "stream",
     "text": [
      "id=1 name='vivek' department='ECE' salary=25000.0 is_active=True\n"
     ]
    },
    {
     "ename": "ValidationError",
     "evalue": "1 validation error for Employee\ndepartment\n  Field required [type=missing, input_value={'id': 2, 'name': 'Madhu'}, input_type=dict]\n    For further information visit https://errors.pydantic.dev/2.11/v/missing",
     "output_type": "error",
     "traceback": [
      "\u001b[31m---------------------------------------------------------------------------\u001b[39m",
      "\u001b[31mValidationError\u001b[39m                           Traceback (most recent call last)",
      "\u001b[36mCell\u001b[39m\u001b[36m \u001b[39m\u001b[32mIn[4]\u001b[39m\u001b[32m, line 3\u001b[39m\n\u001b[32m      1\u001b[39m emp_1 = Employee(\u001b[38;5;28mid\u001b[39m=\u001b[32m1\u001b[39m, name=\u001b[33m\"\u001b[39m\u001b[33mvivek\u001b[39m\u001b[33m\"\u001b[39m, department= \u001b[33m\"\u001b[39m\u001b[33mECE\u001b[39m\u001b[33m\"\u001b[39m,salary=\u001b[32m25000\u001b[39m)\n\u001b[32m      2\u001b[39m \u001b[38;5;28mprint\u001b[39m(emp_1)\n\u001b[32m----> \u001b[39m\u001b[32m3\u001b[39m emp_2 = \u001b[43mEmployee\u001b[49m\u001b[43m(\u001b[49m\u001b[38;5;28;43mid\u001b[39;49m\u001b[43m=\u001b[49m\u001b[32;43m2\u001b[39;49m\u001b[43m,\u001b[49m\u001b[43m \u001b[49m\u001b[43mname\u001b[49m\u001b[43m=\u001b[49m\u001b[33;43m\"\u001b[39;49m\u001b[33;43mMadhu\u001b[39;49m\u001b[33;43m\"\u001b[39;49m\u001b[43m)\u001b[49m\n\u001b[32m      4\u001b[39m \u001b[38;5;28mprint\u001b[39m(emp_2)\n",
      "\u001b[36mFile \u001b[39m\u001b[32me:\\07_Hands_on\\agentic_18_may_project_1\\venv\\Lib\\site-packages\\pydantic\\main.py:253\u001b[39m, in \u001b[36mBaseModel.__init__\u001b[39m\u001b[34m(self, **data)\u001b[39m\n\u001b[32m    251\u001b[39m \u001b[38;5;66;03m# `__tracebackhide__` tells pytest and some other tools to omit this function from tracebacks\u001b[39;00m\n\u001b[32m    252\u001b[39m __tracebackhide__ = \u001b[38;5;28;01mTrue\u001b[39;00m\n\u001b[32m--> \u001b[39m\u001b[32m253\u001b[39m validated_self = \u001b[38;5;28;43mself\u001b[39;49m\u001b[43m.\u001b[49m\u001b[43m__pydantic_validator__\u001b[49m\u001b[43m.\u001b[49m\u001b[43mvalidate_python\u001b[49m\u001b[43m(\u001b[49m\u001b[43mdata\u001b[49m\u001b[43m,\u001b[49m\u001b[43m \u001b[49m\u001b[43mself_instance\u001b[49m\u001b[43m=\u001b[49m\u001b[38;5;28;43mself\u001b[39;49m\u001b[43m)\u001b[49m\n\u001b[32m    254\u001b[39m \u001b[38;5;28;01mif\u001b[39;00m \u001b[38;5;28mself\u001b[39m \u001b[38;5;129;01mis\u001b[39;00m \u001b[38;5;129;01mnot\u001b[39;00m validated_self:\n\u001b[32m    255\u001b[39m     warnings.warn(\n\u001b[32m    256\u001b[39m         \u001b[33m'\u001b[39m\u001b[33mA custom validator is returning a value other than `self`.\u001b[39m\u001b[38;5;130;01m\\n\u001b[39;00m\u001b[33m'\u001b[39m\n\u001b[32m    257\u001b[39m         \u001b[33m\"\u001b[39m\u001b[33mReturning anything other than `self` from a top level model validator isn\u001b[39m\u001b[33m'\u001b[39m\u001b[33mt supported when validating via `__init__`.\u001b[39m\u001b[38;5;130;01m\\n\u001b[39;00m\u001b[33m\"\u001b[39m\n\u001b[32m    258\u001b[39m         \u001b[33m'\u001b[39m\u001b[33mSee the `model_validator` docs (https://docs.pydantic.dev/latest/concepts/validators/#model-validators) for more details.\u001b[39m\u001b[33m'\u001b[39m,\n\u001b[32m    259\u001b[39m         stacklevel=\u001b[32m2\u001b[39m,\n\u001b[32m    260\u001b[39m     )\n",
      "\u001b[31mValidationError\u001b[39m: 1 validation error for Employee\ndepartment\n  Field required [type=missing, input_value={'id': 2, 'name': 'Madhu'}, input_type=dict]\n    For further information visit https://errors.pydantic.dev/2.11/v/missing"
     ]
    }
   ],
   "source": [
    "emp_1 = Employee(id=1, name=\"vivek\", department= \"ECE\",salary=25000)\n",
    "print(emp_1)\n",
    "emp_2 = Employee(id=2, name=\"Madhu\")\n",
    "print(emp_2)\n"
   ]
  },
  {
   "cell_type": "code",
   "execution_count": 5,
   "id": "7bd80988",
   "metadata": {},
   "outputs": [
    {
     "name": "stdout",
     "output_type": "stream",
     "text": [
      "1 validation error for Employee\n",
      "department\n",
      "  Field required [type=missing, input_value={'id': 2, 'name': 'Madhu'}, input_type=dict]\n",
      "    For further information visit https://errors.pydantic.dev/2.11/v/missing\n"
     ]
    }
   ],
   "source": [
    "try:\n",
    "    ValueError= Employee(id=2, name=\"Madhu\")\n",
    "except Exception as e:\n",
    "    print(e)"
   ]
  },
  {
   "cell_type": "markdown",
   "id": "c6411795",
   "metadata": {},
   "source": [
    "4. Models with nested models"
   ]
  },
  {
   "cell_type": "code",
   "execution_count": 2,
   "id": "dfdcde93",
   "metadata": {},
   "outputs": [],
   "source": [
    "from pydantic import BaseModel\n",
    "\n",
    "class Address(BaseModel):\n",
    "    street: str\n",
    "    city: str\n",
    "    zip_code: str\n",
    "\n",
    "class Customer(BaseModel):\n",
    "    customer_id : int\n",
    "    name: str\n",
    "    address: Address ## nested model"
   ]
  },
  {
   "cell_type": "code",
   "execution_count": 5,
   "id": "7e2b91f9",
   "metadata": {},
   "outputs": [
    {
     "name": "stdout",
     "output_type": "stream",
     "text": [
      "customer_id=1 name='Vivek' address=Address(street='Dummy', city='Bangalore', zip_code='518301')\n"
     ]
    }
   ],
   "source": [
    "customer = Customer(customer_id = 1, name = 'Vivek', address= Address(street='Dummy', city='Bangalore', zip_code= '518301')  )\n",
    "print(customer)"
   ]
  },
  {
   "cell_type": "markdown",
   "id": "932de4bf",
   "metadata": {},
   "source": [
    "Pydantic fields: Customization and constraints"
   ]
  },
  {
   "cell_type": "code",
   "execution_count": 7,
   "id": "5aaa54ae",
   "metadata": {},
   "outputs": [
    {
     "ename": "ValidationError",
     "evalue": "1 validation error for Item\nprice\n  Input should be less than or equal to 100000 [type=less_than_equal, input_value=200000000, input_type=int]\n    For further information visit https://errors.pydantic.dev/2.11/v/less_than_equal",
     "output_type": "error",
     "traceback": [
      "\u001b[31m---------------------------------------------------------------------------\u001b[39m",
      "\u001b[31mValidationError\u001b[39m                           Traceback (most recent call last)",
      "\u001b[36mCell\u001b[39m\u001b[36m \u001b[39m\u001b[32mIn[7]\u001b[39m\u001b[32m, line 8\u001b[39m\n\u001b[32m      5\u001b[39m     price: \u001b[38;5;28mfloat\u001b[39m = Field(gt=\u001b[32m0\u001b[39m,le=\u001b[32m100000\u001b[39m)\n\u001b[32m      6\u001b[39m     quantity: \u001b[38;5;28mint\u001b[39m = Field (ge=\u001b[32m0\u001b[39m)\n\u001b[32m----> \u001b[39m\u001b[32m8\u001b[39m item = \u001b[43mItem\u001b[49m\u001b[43m(\u001b[49m\u001b[43mname\u001b[49m\u001b[43m=\u001b[49m\u001b[33;43m'\u001b[39;49m\u001b[33;43mram\u001b[39;49m\u001b[33;43m'\u001b[39;49m\u001b[43m,\u001b[49m\u001b[43mprice\u001b[49m\u001b[43m=\u001b[49m\u001b[43m \u001b[49m\u001b[32;43m200000000\u001b[39;49m\u001b[43m,\u001b[49m\u001b[43m \u001b[49m\u001b[43mquantity\u001b[49m\u001b[43m=\u001b[49m\u001b[43m \u001b[49m\u001b[32;43m10\u001b[39;49m\u001b[43m)\u001b[49m\n\u001b[32m      9\u001b[39m \u001b[38;5;28mprint\u001b[39m(item)\n",
      "\u001b[36mFile \u001b[39m\u001b[32me:\\07_Hands_on\\agentic_18_may_project_1\\venv\\Lib\\site-packages\\pydantic\\main.py:253\u001b[39m, in \u001b[36mBaseModel.__init__\u001b[39m\u001b[34m(self, **data)\u001b[39m\n\u001b[32m    251\u001b[39m \u001b[38;5;66;03m# `__tracebackhide__` tells pytest and some other tools to omit this function from tracebacks\u001b[39;00m\n\u001b[32m    252\u001b[39m __tracebackhide__ = \u001b[38;5;28;01mTrue\u001b[39;00m\n\u001b[32m--> \u001b[39m\u001b[32m253\u001b[39m validated_self = \u001b[38;5;28;43mself\u001b[39;49m\u001b[43m.\u001b[49m\u001b[43m__pydantic_validator__\u001b[49m\u001b[43m.\u001b[49m\u001b[43mvalidate_python\u001b[49m\u001b[43m(\u001b[49m\u001b[43mdata\u001b[49m\u001b[43m,\u001b[49m\u001b[43m \u001b[49m\u001b[43mself_instance\u001b[49m\u001b[43m=\u001b[49m\u001b[38;5;28;43mself\u001b[39;49m\u001b[43m)\u001b[49m\n\u001b[32m    254\u001b[39m \u001b[38;5;28;01mif\u001b[39;00m \u001b[38;5;28mself\u001b[39m \u001b[38;5;129;01mis\u001b[39;00m \u001b[38;5;129;01mnot\u001b[39;00m validated_self:\n\u001b[32m    255\u001b[39m     warnings.warn(\n\u001b[32m    256\u001b[39m         \u001b[33m'\u001b[39m\u001b[33mA custom validator is returning a value other than `self`.\u001b[39m\u001b[38;5;130;01m\\n\u001b[39;00m\u001b[33m'\u001b[39m\n\u001b[32m    257\u001b[39m         \u001b[33m\"\u001b[39m\u001b[33mReturning anything other than `self` from a top level model validator isn\u001b[39m\u001b[33m'\u001b[39m\u001b[33mt supported when validating via `__init__`.\u001b[39m\u001b[38;5;130;01m\\n\u001b[39;00m\u001b[33m\"\u001b[39m\n\u001b[32m    258\u001b[39m         \u001b[33m'\u001b[39m\u001b[33mSee the `model_validator` docs (https://docs.pydantic.dev/latest/concepts/validators/#model-validators) for more details.\u001b[39m\u001b[33m'\u001b[39m,\n\u001b[32m    259\u001b[39m         stacklevel=\u001b[32m2\u001b[39m,\n\u001b[32m    260\u001b[39m     )\n",
      "\u001b[31mValidationError\u001b[39m: 1 validation error for Item\nprice\n  Input should be less than or equal to 100000 [type=less_than_equal, input_value=200000000, input_type=int]\n    For further information visit https://errors.pydantic.dev/2.11/v/less_than_equal"
     ]
    }
   ],
   "source": [
    "from pydantic import BaseModel, Field\n",
    "\n",
    "class Item(BaseModel):\n",
    "    name: str=Field(min_length=2, max_length=50)\n",
    "    price: float = Field(gt=0,le=100000)\n",
    "    quantity: int = Field (ge=0)\n",
    "\n",
    "item = Item(name='ram',price= 200000000, quantity= 10)\n",
    "print(item)"
   ]
  },
  {
   "cell_type": "code",
   "execution_count": 16,
   "id": "3c29aa97",
   "metadata": {},
   "outputs": [
    {
     "name": "stdout",
     "output_type": "stream",
     "text": [
      "username='Alice' age=18 timestamp=datetime.datetime(2025, 6, 3, 18, 12, 21, 129494) email='user@example.com'\n"
     ]
    }
   ],
   "source": [
    "from datetime import datetime\n",
    "\n",
    "class User(BaseModel):\n",
    "    username: str = Field(description=\"unique username for the user\")\n",
    "    age: int=Field(default=18, description=\"User age default to 18\")\n",
    "    timestamp: datetime = Field(default_factory=datetime.utcnow)\n",
    "    email: str=Field(default_factory=lambda: \"user@example.com\",description=\"default email address\")\n",
    "\n",
    "user1 = User(username='Alice')\n",
    "print(user1)"
   ]
  },
  {
   "cell_type": "code",
   "execution_count": 22,
   "id": "d8d9bad5",
   "metadata": {},
   "outputs": [
    {
     "name": "stdout",
     "output_type": "stream",
     "text": [
      "username='bod' age=20 timestamp=datetime.datetime(2025, 6, 3, 18, 14, 28, 136862) email='user@example.com'\n"
     ]
    }
   ],
   "source": [
    "user2 = User(username=\"bod\", age=20)\n",
    "print(user2)"
   ]
  },
  {
   "cell_type": "code",
   "execution_count": 25,
   "id": "e71e51c9",
   "metadata": {},
   "outputs": [
    {
     "data": {
      "text/plain": [
       "{'properties': {'username': {'description': 'unique username for the user',\n",
       "   'title': 'Username',\n",
       "   'type': 'string'},\n",
       "  'age': {'default': 18,\n",
       "   'description': 'User age default to 18',\n",
       "   'title': 'Age',\n",
       "   'type': 'integer'},\n",
       "  'timestamp': {'format': 'date-time', 'title': 'Timestamp', 'type': 'string'},\n",
       "  'email': {'description': 'default email address',\n",
       "   'title': 'Email',\n",
       "   'type': 'string'}},\n",
       " 'required': ['username'],\n",
       " 'title': 'User',\n",
       " 'type': 'object'}"
      ]
     },
     "execution_count": 25,
     "metadata": {},
     "output_type": "execute_result"
    }
   ],
   "source": [
    "User.model_json_schema()"
   ]
  }
 ],
 "metadata": {
  "kernelspec": {
   "display_name": "Python 3",
   "language": "python",
   "name": "python3"
  },
  "language_info": {
   "codemirror_mode": {
    "name": "ipython",
    "version": 3
   },
   "file_extension": ".py",
   "mimetype": "text/x-python",
   "name": "python",
   "nbconvert_exporter": "python",
   "pygments_lexer": "ipython3",
   "version": "3.13.0"
  }
 },
 "nbformat": 4,
 "nbformat_minor": 5
}
