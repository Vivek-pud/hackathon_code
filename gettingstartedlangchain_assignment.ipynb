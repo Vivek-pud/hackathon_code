{
 "cells": [
  {
   "cell_type": "markdown",
   "id": "385ef36f",
   "metadata": {},
   "source": [
    "Create an assistant that uses any LLM and should use pydantic, when we ask about any product it should give you three information product_name, product_details and tentative_price in USD.\n",
    "\n",
    "Use chat prompt template"
   ]
  },
  {
   "cell_type": "code",
   "execution_count": null,
   "id": "b0a03fe0",
   "metadata": {},
   "outputs": [
    {
     "data": {
      "text/plain": [
       "True"
      ]
     },
     "execution_count": 2,
     "metadata": {},
     "output_type": "execute_result"
    }
   ],
   "source": [
    "# Import the 'os' module, which allows interaction with the operating system (e.g., accessing environment variables)\n",
    "import os\n",
    "\n",
    "# Import the 'load_dotenv' function from the 'dotenv' package\n",
    "# This function is used to load environment variables from a .env file into the system environment\n",
    "from dotenv import load_dotenv\n",
    "\n",
    "# Call the 'load_dotenv' function to read variables from a .env file (if it exists in the current directory)\n",
    "# and add them to the environment (os.environ)\n",
    "load_dotenv()"
   ]
  },
  {
   "cell_type": "code",
   "execution_count": 5,
   "id": "4a0306f2",
   "metadata": {},
   "outputs": [],
   "source": [
    "# Set the environment variable \"OPENAI_API_KEY\" using the value fetched from the existing environment (likely loaded from .env)\n",
    "os.environ[\"OPENAI_API_KEY\"] = os.getenv(\"OPENAI_API_KEY\")\n",
    "\n",
    "# Set the environment variable \"LANGCHAIN_API_KEY\" from the value already present in the environment\n",
    "os.environ[\"LANGCHAIN_API_KEY\"] = os.getenv(\"LANGCHAIN_API_KEY\")\n",
    "\n",
    "# Set the environment variable \"LANGCHAIN_PROJECT\" from the environment value (could refer to a project name or ID)\n",
    "os.environ[\"LANGCHAIN_PROJECT\"] = os.getenv(\"LANGCHAIN_PROJECT\")\n",
    "\n",
    "# Set the environment variable \"GROQ_API_KEY\" using the value loaded from environment (.env or system)\n",
    "os.environ[\"GROQ_API_KEY\"] = os.getenv(\"GROQ_API_KEY\")\n",
    "\n",
    "# Enable LangChain tracing v2 by explicitly setting this environment variable to the string \"true\"\n",
    "os.environ[\"LANGCHAIN_TRACING_V2\"] = \"true\"\n"
   ]
  },
  {
   "cell_type": "code",
   "execution_count": 28,
   "id": "4d1ed759",
   "metadata": {},
   "outputs": [
    {
     "data": {
      "text/plain": [
       "ChatPromptTemplate(input_variables=['text'], input_types={}, partial_variables={}, messages=[SystemMessagePromptTemplate(prompt=PromptTemplate(input_variables=[], input_types={}, partial_variables={}, template=\"You are a helpful e-commerce assistant that provides the product name, product details and tentative price of the product in USD.The output should be in JSON format with the following keys: 'product_name' with data type as str, 'product_details' data type as str, and 'tentative_price' data type as float.\"), additional_kwargs={}), HumanMessagePromptTemplate(prompt=PromptTemplate(input_variables=['text'], input_types={}, partial_variables={}, template='{text}'), additional_kwargs={})])"
      ]
     },
     "execution_count": 28,
     "metadata": {},
     "output_type": "execute_result"
    }
   ],
   "source": [
    "from langchain_groq import ChatGroq\n",
    "from langchain_core.prompts import ChatPromptTemplate\n",
    "from langchain_core.output_parsers import JsonOutputParser\n",
    "from pydantic import BaseModel, Field\n",
    "\n",
    "parser = JsonOutputParser(pydantic_object=BaseModel)\n",
    "\n",
    "class ProductDetails(BaseModel):\n",
    "    product_name: str = Field(description=\"The name of the product\")\n",
    "    product_details: str = Field(description=\"Detailed description of the product\")\n",
    "    tentative_price: float = Field(description=\"Estimated price of the product in USD\")\n",
    "\n",
    "prompt = ChatPromptTemplate(\n",
    "    [\n",
    "        (\"system\", \"You are a helpful e-commerce assistant that provides the product name, product details and tentative price of the product in USD.The output should be in JSON format with the following keys: 'product_name' with data type as str, 'product_details' data type as str, and 'tentative_price' data type as float.\"),\n",
    "        (\"user\", \"{text}\"),\n",
    "    ]\n",
    ")\n",
    "prompt"
   ]
  },
  {
   "cell_type": "code",
   "execution_count": 29,
   "id": "cc73de06",
   "metadata": {},
   "outputs": [],
   "source": [
    "llm_model = ChatGroq(model=\"gemma2-9b-it\",temperature=0.0, max_tokens=5000)"
   ]
  },
  {
   "cell_type": "code",
   "execution_count": 30,
   "id": "33ad0ddb",
   "metadata": {},
   "outputs": [],
   "source": [
    "chain = prompt | llm_model | parser\n"
   ]
  },
  {
   "cell_type": "code",
   "execution_count": 31,
   "id": "7cccf6cf",
   "metadata": {},
   "outputs": [
    {
     "name": "stdout",
     "output_type": "stream",
     "text": [
      "{'product_name': 'iPhone 15 Pro Max', 'product_details': '6.7-inch Super Retina XDR display, A17 Pro chip, 48MP main camera, LiDAR scanner, up to 8GB RAM, 256GB to 1TB storage', 'tentative_price': 1099.0}\n"
     ]
    }
   ],
   "source": [
    "output = chain.invoke({\"text\":\"Provide me info on the iphone 15 pro max.\"})\n",
    "print(output)"
   ]
  }
 ],
 "metadata": {
  "kernelspec": {
   "display_name": "Python 3",
   "language": "python",
   "name": "python3"
  },
  "language_info": {
   "codemirror_mode": {
    "name": "ipython",
    "version": 3
   },
   "file_extension": ".py",
   "mimetype": "text/x-python",
   "name": "python",
   "nbconvert_exporter": "python",
   "pygments_lexer": "ipython3",
   "version": "3.13.0"
  }
 },
 "nbformat": 4,
 "nbformat_minor": 5
}
