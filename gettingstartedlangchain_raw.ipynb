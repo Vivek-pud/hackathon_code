{
 "cells": [
  {
   "cell_type": "code",
   "execution_count": null,
   "id": "959eb95a",
   "metadata": {},
   "outputs": [],
   "source": [
    "import os\n",
    "from dotenv import load_dotenv\n",
    "load_dotenv()"
   ]
  },
  {
   "cell_type": "code",
   "execution_count": null,
   "id": "c9838bbc",
   "metadata": {},
   "outputs": [],
   "source": [
    "os.getenv(\"LANGCHAIN_PROJECT\")"
   ]
  },
  {
   "cell_type": "code",
   "execution_count": null,
   "metadata": {},
   "outputs": [],
   "source": [
    "os.environ[\"OPENAI_API_KEY\"] = os.getenv(\"OPENAI_API_KEY\")\n",
    "os.environ[\"LANGCHAIN_API_KEY\"] = os.getenv(\"LANGCHAIN_API_KEY\")\n",
    "os.environ[\"LANGCHAIN_PROJECT\"] = os.getenv(\"LANGCHAIN_PROJECT\")\n",
    "\n",
    "os.environ[\"GROQ_API_KEY\"] = os.getenv(\"GROQ_API_KEY\")\n",
    "os.environ[\"ANTHROPIC_API_KEY\"] = os.getenv(\"ANTHROPIC_API_KEY\")\n",
    "os.environ[\"HUGGINGFACEHUB_API_TOKEN\"] = os.getenv(\"HUGGINGFACEHUB_API_TOKEN\")\n",
    "\n",
    "os.environ[\"LANGCHAIN_TRACING_V2\"] = \"true\""
   ]
  },
  {
   "cell_type": "code",
   "execution_count": null,
   "id": "d179bab4",
   "metadata": {},
   "outputs": [],
   "source": [
    "from langchain_openai import ChatOpenAI\n",
    "\n",
    "llm = ChatOpenAI(model=\"o1-mini\")\n",
    "print(llm)"
   ]
  },
  {
   "cell_type": "code",
   "execution_count": null,
   "id": "962f254a",
   "metadata": {},
   "outputs": [],
   "source": [
    "llm.invoke(\"What is agentic AI\")\n",
    "\n",
    "## I dont have the OPEN AI hence, I can not run this query"
   ]
  },
  {
   "cell_type": "code",
   "execution_count": null,
   "id": "155b7858",
   "metadata": {},
   "outputs": [],
   "source": [
    "## Instantiation\n",
    "\n",
    "from langchain_groq import ChatGroq\n",
    "model=ChatGroq(model = \"qwen-qwq-32b\",temperature=1)\n",
    "model.invoke(\"Hi My name is vivek\") ## you can invoke it directly like this or use messages"
   ]
  },
  {
   "cell_type": "code",
   "execution_count": null,
   "id": "6430d7dd",
   "metadata": {},
   "outputs": [],
   "source": [
    "messages = [\n",
    "\n",
    "    (\"system\",\"you are a product designer and should be able to answer product related queries\"),\n",
    "    (\"human\",\"What is a user journey\"),\n",
    "]\n",
    "\n",
    "ai_msg = model.invoke(messages)\n",
    "print(ai_msg.content)"
   ]
  },
  {
   "cell_type": "code",
   "execution_count": null,
   "id": "df7ef274",
   "metadata": {},
   "outputs": [],
   "source": [
    "## Prompt engineering || Invocation\n",
    "\n",
    "from langchain_core.prompts import ChatPromptTemplate\n",
    "\n",
    "prompt = ChatPromptTemplate.from_messages(\n",
    "    [\n",
    "        (\"system\",\"you are an expert AI engineer. Provide me answer based on the question\"),\n",
    "        (\"user\",\"{input}\")\n",
    "    ]\n",
    "\n",
    ")\n",
    "prompt"
   ]
  },
  {
   "cell_type": "code",
   "execution_count": 4,
   "id": "2e33563c",
   "metadata": {},
   "outputs": [
    {
     "data": {
      "text/plain": [
       "ChatGroq(client=<groq.resources.chat.completions.Completions object at 0x000002BE2F3BC830>, async_client=<groq.resources.chat.completions.AsyncCompletions object at 0x000002BE2F3BD550>, model_name='gemma2-9b-it', model_kwargs={}, groq_api_key=SecretStr('**********'))"
      ]
     },
     "execution_count": 4,
     "metadata": {},
     "output_type": "execute_result"
    }
   ],
   "source": [
    "from langchain_groq import ChatGroq\n",
    "model=ChatGroq(model = \"gemma2-9b-it\")\n",
    "model"
   ]
  },
  {
   "cell_type": "code",
   "execution_count": null,
   "id": "43f726d6",
   "metadata": {},
   "outputs": [],
   "source": [
    "### Chaining\n",
    "chain = prompt | model \n",
    "chain"
   ]
  },
  {
   "cell_type": "code",
   "execution_count": null,
   "id": "71b18ea5",
   "metadata": {},
   "outputs": [],
   "source": [
    "response = chain.invoke({\"input\":\"can you tell me about langsmith\"})\n",
    "print(response.content)"
   ]
  },
  {
   "cell_type": "code",
   "execution_count": 11,
   "id": "22b02f03",
   "metadata": {},
   "outputs": [],
   "source": [
    "from langchain_core.prompts import ChatPromptTemplate\n",
    "\n",
    "prompt = ChatPromptTemplate.from_messages(\n",
    "    [\n",
    "        (\n",
    "            \"system\",\n",
    "            \"You are a helpful assistant that translates {input_language} to {output_language}.\",\n",
    "        ),\n",
    "        (\"human\", \"{input}\"),\n",
    "    ]\n",
    ")\n",
    "\n",
    "chain = prompt | model\n",
    "response = chain.invoke(\n",
    "    {\n",
    "        \"input_language\": \"English\",\n",
    "        \"output_language\": \"Telugu\",\n",
    "        \"input\": \"I love programming.\",\n",
    "    }\n",
    ")"
   ]
  },
  {
   "cell_type": "code",
   "execution_count": 12,
   "id": "0f8f33d9",
   "metadata": {},
   "outputs": [
    {
     "name": "stdout",
     "output_type": "stream",
     "text": [
      "చాలా బాగుంది! ప్రోగ్రామింగ్ అంటే మీకు ఇష్టం అని నేను తెలుసుకున్నాను. మీరు ఏ రకమైన ప్రోగ్రామింగ్ లో ఆసక్తి చూపుతున్నారు?  \n",
      "\n",
      "I'm happy to help you with anything related to programming in Telugu.  \n",
      "\n",
      "(I understand you love programming. What kind of programming are you interested in?)\n",
      "\n"
     ]
    }
   ],
   "source": [
    "print(response.content)"
   ]
  },
  {
   "cell_type": "code",
   "execution_count": null,
   "id": "1bc94d62",
   "metadata": {},
   "outputs": [],
   "source": [
    "## It is not free and would not work\n",
    "\n",
    "from langchain_anthropic import ChatAnthropic\n",
    "llm = ChatAnthropic (model=\"claude-3-5-sonnet-20240620\")"
   ]
  },
  {
   "cell_type": "code",
   "execution_count": 7,
   "id": "beccdb99",
   "metadata": {},
   "outputs": [],
   "source": [
    "### Output Parser\n",
    "from langchain_core.output_parsers import StrOutputParser\n",
    "output_parser = StrOutputParser()\n",
    "chain = prompt | model | output_parser\n",
    "response = chain.invoke(\n",
    "    {\n",
    "        \"input_language\": \"English\",\n",
    "        \"output_language\": \"Telugu\",\n",
    "        \"input\": \"I love programming.\",\n",
    "    }\n",
    ")"
   ]
  },
  {
   "cell_type": "code",
   "execution_count": 9,
   "id": "859d9406",
   "metadata": {},
   "outputs": [
    {
     "name": "stdout",
     "output_type": "stream",
     "text": [
      "నేను మీకు సహాయకరమైన సహచరుడిని, ఇంగ్లీష్ ను తెలుగులోకి అనువదించడంలో సహాయం చేస్తాను. ప్రోగ్రామింగ్ ఇష్టం ఉంది అని మీరు చెప్పారు. \n",
      "\n",
      "చాలా బాగుంది! మీకు ప్రోగ్రామింగ్ గురించి తెలుసుకోవాలని ఉంటే, ఏ ప్రత్యేక ప్రాంతం మీకు ఇష్టం? \n",
      "\n",
      "ఉదాహరణకు,\n",
      "\n",
      "*  어떤 ప్రోగ్రామింగ్ భాషలో మీకు ప్రావీణ్యం ఉంది?\n",
      "*  మీరు ప్రోగ్రామింగ్ నేర్చుకోవాలనుకుంటున్నారా?\n",
      "*  మీరు ప్రోగ్రామింగ్ లోని ఏదైనా సమస్యను సాధించడానికి సాయం కావాలా? \n",
      "\n",
      "\n",
      "మీ వ్యాఖ్యలతో నేను మీకు ఉపయోగకారిగా ఉండగలను. 😊\n",
      "\n",
      "\n"
     ]
    }
   ],
   "source": [
    "print(response)"
   ]
  }
 ],
 "metadata": {
  "kernelspec": {
   "display_name": "Python 3",
   "language": "python",
   "name": "python3"
  },
  "language_info": {
   "codemirror_mode": {
    "name": "ipython",
    "version": 3
   },
   "file_extension": ".py",
   "mimetype": "text/x-python",
   "name": "python",
   "nbconvert_exporter": "python",
   "pygments_lexer": "ipython3",
   "version": "3.13.0"
  }
 },
 "nbformat": 4,
 "nbformat_minor": 5
}
