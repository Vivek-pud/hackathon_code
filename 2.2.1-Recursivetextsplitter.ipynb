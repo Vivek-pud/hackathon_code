{
 "cells": [
  {
   "cell_type": "markdown",
   "id": "13fcb5fb",
   "metadata": {},
   "source": [
    "RecursiveCharacter Text Splitters"
   ]
  },
  {
   "cell_type": "code",
   "execution_count": null,
   "id": "b5ac56bf",
   "metadata": {},
   "outputs": [],
   "source": [
    "## Reading a PDF file\n",
    "from langchain_community.document_loaders import PyMuPDFLoader\n",
    "\n",
    "file_path = r\"E:\\07_Hands_on\\agentic_18_may_project_1\\2-Langchain Basics\\2.1-DataIngestion\\syllabus.pdf\"\n",
    "loader = PyMuPDFLoader(file_path)   "
   ]
  },
  {
   "cell_type": "code",
   "execution_count": null,
   "id": "c653e312",
   "metadata": {},
   "outputs": [],
   "source": [
    "docs = loader.load()\n",
    "docs"
   ]
  },
  {
   "cell_type": "code",
   "execution_count": null,
   "id": "75b5f4c0",
   "metadata": {},
   "outputs": [],
   "source": [
    "#splitting the file in to multiple chunks\n",
    "from langchain_text_splitters import RecursiveCharacterTextSplitter\n",
    "\n",
    "text_splitter = RecursiveCharacterTextSplitter(chunk_size=200,\n",
    "    chunk_overlap=20)\n",
    "text_splitter\n",
    "\n",
    "final_documents = text_splitter.split_documents(docs)\n",
    "final_documents"
   ]
  },
  {
   "cell_type": "code",
   "execution_count": null,
   "id": "22e678b0",
   "metadata": {},
   "outputs": [],
   "source": [
    "final_documents"
   ]
  },
  {
   "cell_type": "code",
   "execution_count": 13,
   "id": "0e1971a1",
   "metadata": {},
   "outputs": [
    {
     "name": "stdout",
     "output_type": "stream",
     "text": [
      "page_content='The world must be made safe for democracy. Its peace must be planted upon the tested foundations of'\n",
      "page_content='foundations of political liberty. We have no selfish ends to serve. We desire no conquest, no'\n"
     ]
    }
   ],
   "source": [
    "from langchain_text_splitters import RecursiveCharacterTextSplitter\n",
    "\n",
    "# Load example document\n",
    "with open(\"speech.txt\") as f:\n",
    "    speech = f.read()\n",
    "\n",
    "text_splitter = RecursiveCharacterTextSplitter(\n",
    "    # Set a really small chunk size, just to show.\n",
    "    chunk_size=100,\n",
    "    chunk_overlap=20,\n",
    "    length_function=len,\n",
    "    is_separator_regex=False,\n",
    ")\n",
    "texts = text_splitter.create_documents([speech])\n",
    "print(texts[0])\n",
    "print(texts[1])"
   ]
  }
 ],
 "metadata": {
  "kernelspec": {
   "display_name": "Python 3",
   "language": "python",
   "name": "python3"
  },
  "language_info": {
   "codemirror_mode": {
    "name": "ipython",
    "version": 3
   },
   "file_extension": ".py",
   "mimetype": "text/x-python",
   "name": "python",
   "nbconvert_exporter": "python",
   "pygments_lexer": "ipython3",
   "version": "3.13.0"
  }
 },
 "nbformat": 4,
 "nbformat_minor": 5
}
