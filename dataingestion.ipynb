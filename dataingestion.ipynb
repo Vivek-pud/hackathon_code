{
 "cells": [
  {
   "cell_type": "markdown",
   "id": "7c153016",
   "metadata": {},
   "source": [
    "Data ingestion or Data loader"
   ]
  },
  {
   "cell_type": "code",
   "execution_count": null,
   "id": "6e1f8182",
   "metadata": {},
   "outputs": [],
   "source": [
    "# Import the TextLoader class from LangChain\n",
    "from langchain_community.document_loaders.text import TextLoader"
   ]
  },
  {
   "cell_type": "code",
   "execution_count": null,
   "id": "5f896310",
   "metadata": {},
   "outputs": [],
   "source": [
    "# Create a TextLoader object for the file 'speech.txt'\n",
    "# This prepares the loader to read the file content when load() is called\n",
    "loader = TextLoader('speech.txt')\n",
    "loader"
   ]
  },
  {
   "cell_type": "code",
   "execution_count": null,
   "id": "4307b9ac",
   "metadata": {},
   "outputs": [],
   "source": [
    "# Load the contents of the text file into a list of Document objects\n",
    "doucument = loader.load()\n",
    "doucument"
   ]
  },
  {
   "cell_type": "code",
   "execution_count": null,
   "id": "0e96613c",
   "metadata": {},
   "outputs": [],
   "source": [
    "## Load a PDF file using the PDFLoader class\n",
    "from langchain_community.document_loaders import PyPDFLoader\n"
   ]
  },
  {
   "cell_type": "code",
   "execution_count": null,
   "id": "a84d9488",
   "metadata": {},
   "outputs": [],
   "source": [
    "## create a PDF loader \n",
    "file_path = r\"E:\\07_Hands_on\\agentic_18_may_project_1\\2-Langchain Basics\\2.1-DataIngestion\\syllabus.pdf\"\n",
    "loader = PyPDFLoader(file_path)"
   ]
  },
  {
   "cell_type": "code",
   "execution_count": null,
   "id": "34ad917c",
   "metadata": {},
   "outputs": [],
   "source": [
    "pdf_document = loader.load()\n",
    "pdf_document"
   ]
  },
  {
   "cell_type": "code",
   "execution_count": null,
   "id": "84d3ff40",
   "metadata": {},
   "outputs": [],
   "source": [
    "#web based loader\n",
    "from langchain_community.document_loaders import WebBaseLoader\n",
    "web_loader = WebBaseLoader([\"https://deadlineconsultants.blogspot.com/2022/10/perception-vs-reality.html\",\n",
    "    \"https://python.langchain.com/api_reference/community/document_loaders/langchain_community.document_loaders.text.TextLoader.html\"\n",
    "])"
   ]
  },
  {
   "cell_type": "code",
   "execution_count": null,
   "id": "45dc6dd9",
   "metadata": {},
   "outputs": [],
   "source": [
    "web_loader.load()"
   ]
  },
  {
   "cell_type": "code",
   "execution_count": null,
   "id": "f3fe0979",
   "metadata": {},
   "outputs": [],
   "source": [
    "## arXiv loader\n",
    "from langchain_community.document_loaders import ArxivLoader\n",
    "\n",
    "arxiv_loader = ArxivLoader(\n",
    "    query=\"1706.03762\",\n",
    "    load_max_docs=2,\n",
    ")\n",
    "docs = arxiv_loader.load()\n",
    "docs"
   ]
  },
  {
   "cell_type": "code",
   "execution_count": null,
   "id": "d0b2fb58",
   "metadata": {},
   "outputs": [],
   "source": [
    "len(docs)"
   ]
  },
  {
   "cell_type": "code",
   "execution_count": null,
   "id": "1db4aef6",
   "metadata": {},
   "outputs": [],
   "source": [
    "\n",
    "from langchain_community.document_loaders import TwitterTweetLoader\n",
    "\n",
    "loader = TwitterTweetLoader.from_bearer_token(\n",
    "    oauth2_bearer_token=\"AAAAAAAAAAAAAAAAAAAAACOP2QEAAAAAq0HJwqphvktEMPRM0CWBul27Ges%3DHxzeO3a9FCzt3rhs5xArMdauidPwyXGbX6WVyhE4t3qtXHXOOV\",\n",
    "    twitter_users=[\"elonmusk\"],\n",
    "    number_tweets=50\n",
    ")\n",
    "\n",
    "documents = loader.load()\n",
    "for doc in documents[:5]:\n",
    "    print(doc.page_content)\n"
   ]
  }
 ],
 "metadata": {
  "kernelspec": {
   "display_name": "Python 3",
   "language": "python",
   "name": "python3"
  },
  "language_info": {
   "codemirror_mode": {
    "name": "ipython",
    "version": 3
   },
   "file_extension": ".py",
   "mimetype": "text/x-python",
   "name": "python",
   "nbconvert_exporter": "python",
   "pygments_lexer": "ipython3",
   "version": "3.13.0"
  }
 },
 "nbformat": 4,
 "nbformat_minor": 5
}
