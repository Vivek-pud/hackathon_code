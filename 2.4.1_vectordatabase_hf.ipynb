{
 "cells": [
  {
   "cell_type": "code",
   "execution_count": null,
   "id": "70ae9b8e",
   "metadata": {},
   "outputs": [],
   "source": [
    "import os\n",
    "from dotenv import load_dotenv\n",
    "load_dotenv()"
   ]
  },
  {
   "cell_type": "code",
   "execution_count": null,
   "id": "ed64b34b",
   "metadata": {},
   "outputs": [],
   "source": [
    "os.environ[\"HUGGINGFACEHUB_API_TOKEN\"] = os.getenv(\"HUGGINGFACEHUB_API_TOKEN\")"
   ]
  },
  {
   "cell_type": "code",
   "execution_count": null,
   "id": "62c1694b",
   "metadata": {},
   "outputs": [],
   "source": [
    "from langchain_huggingface import HuggingFaceEmbeddings\n",
    "embeddings = HuggingFaceEmbeddings(\n",
    "    model_name=\"sentence-transformers/all-MiniLM-L6-v2\")"
   ]
  },
  {
   "cell_type": "markdown",
   "id": "1c6a6ee9",
   "metadata": {},
   "source": [
    "| Metric             | Focuses On                | Range    | Use Case Example                    |\n",
    "| ------------------ | ------------------------- | -------- | ----------------------------------- |\n",
    "| Cosine Similarity  | **Direction**             | \\[-1, 1] | NLP embeddings, recommender systems |\n",
    "| Euclidean Distance | **Magnitude + Direction** | \\[0, ∞)  | Image comparison, clustering        |\n"
   ]
  },
  {
   "cell_type": "code",
   "execution_count": null,
   "id": "bfde7b8b",
   "metadata": {},
   "outputs": [],
   "source": [
    "from sklearn.metrics.pairwise import cosine_similarity\n",
    "documents =[\n",
    "    \"Vivek's son name is manvik\",\n",
    "    \"Vivek's wife is Madhuri\",\n",
    "    \"Satwis Thavil is an apartment in Bangalore\",]"
   ]
  },
  {
   "cell_type": "code",
   "execution_count": null,
   "id": "d9ea00cf",
   "metadata": {},
   "outputs": [],
   "source": [
    "vivek_question_document = [\"Tell me about Vivek's family\",\"What is the name of Vivek's son?\"]"
   ]
  },
  {
   "cell_type": "code",
   "execution_count": null,
   "id": "e9b857f4",
   "metadata": {},
   "outputs": [],
   "source": [
    "document_embeddings = embeddings.embed_documents(documents)\n",
    "\n",
    "vivek_question_embedding = embeddings.embed_documents(vivek_question_document)\n",
    "\n"
   ]
  },
  {
   "cell_type": "code",
   "execution_count": null,
   "id": "fcb07bf8",
   "metadata": {},
   "outputs": [],
   "source": [
    "cosine_similarities = cosine_similarity(vivek_question_embedding, document_embeddings)\n",
    "cosine_similarities"
   ]
  },
  {
   "cell_type": "code",
   "execution_count": null,
   "id": "b04e5062",
   "metadata": {},
   "outputs": [],
   "source": [
    "from sklearn.metrics import euclidean_distances\n",
    "euclidean_distances = euclidean_distances([vivek_question_embedding], document_embeddings)\n",
    "euclidean_distances"
   ]
  },
  {
   "cell_type": "code",
   "execution_count": null,
   "id": "07d44df6",
   "metadata": {},
   "outputs": [],
   "source": [
    "import faiss\n",
    "from langchain_community.docstore.in_memory import InMemoryDocstore\n",
    "from langchain_community.vectorstores import FAISS"
   ]
  },
  {
   "cell_type": "code",
   "execution_count": null,
   "id": "4135a017",
   "metadata": {},
   "outputs": [],
   "source": [
    "index = faiss.IndexFlatL2(len(embeddings.embed_query(\"hello world\")))"
   ]
  }
 ],
 "metadata": {
  "kernelspec": {
   "display_name": "Python 3",
   "language": "python",
   "name": "python3"
  },
  "language_info": {
   "codemirror_mode": {
    "name": "ipython",
    "version": 3
   },
   "file_extension": ".py",
   "mimetype": "text/x-python",
   "name": "python",
   "nbconvert_exporter": "python",
   "pygments_lexer": "ipython3",
   "version": "3.13.0"
  }
 },
 "nbformat": 4,
 "nbformat_minor": 5
}
